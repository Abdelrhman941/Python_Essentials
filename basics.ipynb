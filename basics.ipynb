{
 "cells": [
  {
   "cell_type": "code",
   "execution_count": 6,
   "id": "f6dc6a8d",
   "metadata": {},
   "outputs": [
    {
     "name": "stdout",
     "output_type": "stream",
     "text": [
      "helloo\n"
     ]
    }
   ],
   "source": [
    "print(\"helloo\")"
   ]
  },
  {
   "cell_type": "markdown",
   "id": "4d6f74f6",
   "metadata": {},
   "source": [
    "<h1 align=\"center\"> <strong>1️⃣ syntax_basics</strong> </h1>\n",
    "\n",
    "> # **list comprehension**\n",
    "\n",
    "```md\n",
    "[expression for item in iterable]\n",
    "```"
   ]
  },
  {
   "cell_type": "code",
   "execution_count": 7,
   "id": "1ebf56a8",
   "metadata": {},
   "outputs": [
    {
     "data": {
      "text/plain": [
       "[0, 1, 4, 9, 16]"
      ]
     },
     "execution_count": 7,
     "metadata": {},
     "output_type": "execute_result"
    }
   ],
   "source": [
    "squares = [x**2 for x in range(5)]\n",
    "squares"
   ]
  },
  {
   "cell_type": "code",
   "execution_count": 8,
   "id": "64e49828",
   "metadata": {},
   "outputs": [
    {
     "data": {
      "text/plain": [
       "[0, 2, 4, 6, 8]"
      ]
     },
     "execution_count": 8,
     "metadata": {},
     "output_type": "execute_result"
    }
   ],
   "source": [
    "evens = [x for x in range(10) if x % 2 == 0]\n",
    "evens"
   ]
  },
  {
   "cell_type": "code",
   "execution_count": 9,
   "id": "e8fc5469",
   "metadata": {},
   "outputs": [
    {
     "data": {
      "text/plain": [
       "[5, 5]"
      ]
     },
     "execution_count": 9,
     "metadata": {},
     "output_type": "execute_result"
    }
   ],
   "source": [
    "words   = [\"hello\", \"world\"]\n",
    "lengths = [len(word) for word in words]\n",
    "lengths"
   ]
  },
  {
   "cell_type": "markdown",
   "id": "3e822a48",
   "metadata": {},
   "source": [
    "> # **ternary operator**\n",
    "\n",
    "```md\n",
    "Syntax : [on_true] if [expression] else [on_false] \n",
    "```"
   ]
  },
  {
   "cell_type": "code",
   "execution_count": 10,
   "id": "88d1b0bb",
   "metadata": {},
   "outputs": [
    {
     "data": {
      "text/plain": [
       "10"
      ]
     },
     "execution_count": 10,
     "metadata": {},
     "output_type": "execute_result"
    }
   ],
   "source": [
    "a, b = 10, 20\n",
    "min = a if a < b else b\n",
    "min"
   ]
  },
  {
   "cell_type": "markdown",
   "id": "ae9e14f5",
   "metadata": {},
   "source": [
    "<h1 align=\"center\"> <strong>2️⃣ io</strong> </h1>\n",
    "\n",
    "> # **IP/OP**"
   ]
  },
  {
   "cell_type": "code",
   "execution_count": 13,
   "id": "7c1771f6",
   "metadata": {},
   "outputs": [
    {
     "name": "stdout",
     "output_type": "stream",
     "text": [
      "Hello, Abdelrhman! Welcome!\n"
     ]
    }
   ],
   "source": [
    "name = input(\"Enter your name: \")\n",
    "print(f\"Hello, {name}! Welcome!\")"
   ]
  },
  {
   "cell_type": "code",
   "execution_count": 14,
   "id": "4d09f2b6",
   "metadata": {},
   "outputs": [
    {
     "name": "stdout",
     "output_type": "stream",
     "text": [
      "Bob\n",
      "Alice 25 New York\n"
     ]
    }
   ],
   "source": [
    "# Single variable\n",
    "s = \"Bob\"\n",
    "print(s)\n",
    "\n",
    "# Multiple Variables\n",
    "s    = \"Alice\"\n",
    "age  = 25\n",
    "city = \"New York\"\n",
    "print(s, age, city)"
   ]
  },
  {
   "cell_type": "code",
   "execution_count": 17,
   "id": "c396ccad",
   "metadata": {},
   "outputs": [
    {
     "name": "stdout",
     "output_type": "stream",
     "text": [
      "Number of boys : 6\n",
      "Number of girls: 7\n"
     ]
    }
   ],
   "source": [
    "# taking two inputs at a time\n",
    "x, y = input(\"Enter two values: \").split()\n",
    "print(f\"Number of boys : {x}\")\n",
    "print(f\"Number of girls: {y}\")"
   ]
  },
  {
   "cell_type": "code",
   "execution_count": 18,
   "id": "255a6aca",
   "metadata": {},
   "outputs": [
    {
     "name": "stdout",
     "output_type": "stream",
     "text": [
      "You are an adult.\n"
     ]
    }
   ],
   "source": [
    "# Prompting the user for input\n",
    "age_input = input(\"Enter your age: \")\n",
    "\n",
    "# Converting the input to an integer\n",
    "age = int(age_input)\n",
    "\n",
    "# Checking conditions based on user input\n",
    "if age < 0:\n",
    "    print(\"Please enter a valid age.\")\n",
    "elif age < 18:\n",
    "    print(\"You are a minor.\")\n",
    "elif age >= 18 and age < 65:\n",
    "    print(\"You are an adult.\")\n",
    "else:\n",
    "    print(\"You are a senior citizen.\")"
   ]
  },
  {
   "cell_type": "code",
   "execution_count": 21,
   "id": "af9722a4",
   "metadata": {},
   "outputs": [
    {
     "name": "stdout",
     "output_type": "stream",
     "text": [
      "55 <class 'str'>\n"
     ]
    }
   ],
   "source": [
    "n = input(\"How many roses?: \")\n",
    "print(n , type(n))"
   ]
  },
  {
   "cell_type": "code",
   "execution_count": 22,
   "id": "77c11f10",
   "metadata": {},
   "outputs": [
    {
     "name": "stdout",
     "output_type": "stream",
     "text": [
      "55 <class 'int'>\n"
     ]
    }
   ],
   "source": [
    "# Taking input as int and typecasting to int\n",
    "n = int(input(\"How many roses?: \"))\n",
    "print(n , type(n))"
   ]
  },
  {
   "cell_type": "code",
   "execution_count": 23,
   "id": "39e1ab13",
   "metadata": {},
   "outputs": [
    {
     "name": "stdout",
     "output_type": "stream",
     "text": [
      "Amount: $150.75\n"
     ]
    }
   ],
   "source": [
    "amount = 150.75\n",
    "print(f\"Amount: ${amount:.2f}\")"
   ]
  },
  {
   "cell_type": "code",
   "execution_count": 24,
   "id": "e00ba7dc",
   "metadata": {},
   "outputs": [
    {
     "name": "stdout",
     "output_type": "stream",
     "text": [
      "10\n"
     ]
    },
    {
     "ename": "NameError",
     "evalue": "name 'x' is not defined",
     "output_type": "error",
     "traceback": [
      "\u001b[31m---------------------------------------------------------------------------\u001b[39m",
      "\u001b[31mNameError\u001b[39m                                 Traceback (most recent call last)",
      "\u001b[36mCell\u001b[39m\u001b[36m \u001b[39m\u001b[32mIn[24]\u001b[39m\u001b[32m, line 9\u001b[39m\n\u001b[32m      6\u001b[39m \u001b[38;5;28;01mdel\u001b[39;00m x\n\u001b[32m      8\u001b[39m \u001b[38;5;66;03m# Trying to print x after deletion will raise an error\u001b[39;00m\n\u001b[32m----> \u001b[39m\u001b[32m9\u001b[39m \u001b[38;5;28mprint\u001b[39m(x)\n",
      "\u001b[31mNameError\u001b[39m: name 'x' is not defined"
     ]
    }
   ],
   "source": [
    "# Assigning value to variable\n",
    "x = 10\n",
    "print(x) \n",
    "\n",
    "# Removing the variable using del\n",
    "del x\n",
    "\n",
    "# Trying to print x after deletion will raise an error\n",
    "print(x)  # Uncommenting this line will raise NameError: name 'x' is not defined"
   ]
  },
  {
   "cell_type": "code",
   "execution_count": 25,
   "id": "6acf31b1",
   "metadata": {},
   "outputs": [
    {
     "name": "stdout",
     "output_type": "stream",
     "text": [
      "I am local\n"
     ]
    },
    {
     "ename": "NameError",
     "evalue": "name 'asd' is not defined",
     "output_type": "error",
     "traceback": [
      "\u001b[31m---------------------------------------------------------------------------\u001b[39m",
      "\u001b[31mNameError\u001b[39m                                 Traceback (most recent call last)",
      "\u001b[36mCell\u001b[39m\u001b[36m \u001b[39m\u001b[32mIn[25]\u001b[39m\u001b[32m, line 7\u001b[39m\n\u001b[32m      3\u001b[39m     \u001b[38;5;28mprint\u001b[39m(asd)\n\u001b[32m      5\u001b[39m f()\n\u001b[32m----> \u001b[39m\u001b[32m7\u001b[39m \u001b[38;5;28mprint\u001b[39m(asd)\n",
      "\u001b[31mNameError\u001b[39m: name 'asd' is not defined"
     ]
    }
   ],
   "source": [
    "def f():\n",
    "    asd = \"I am local\"\n",
    "    print(asd)\n",
    "\n",
    "f()\n",
    "\n",
    "print(asd)  # This would raise an error since 'local_var' is not accessible outside the function"
   ]
  },
  {
   "cell_type": "markdown",
   "id": "d8d47533",
   "metadata": {},
   "source": [
    "<h1 align=\"center\"> <strong>3️⃣ data_formatting</strong> </h1>\n",
    "\n",
    "> # **JSON formmat**"
   ]
  },
  {
   "cell_type": "code",
   "execution_count": null,
   "id": "404d60b1",
   "metadata": {},
   "outputs": [
    {
     "name": "stdout",
     "output_type": "stream",
     "text": [
      "{\"name\": \"John\", \"age\": 30, \"city\": \"New York\"} \n",
      " <class 'str'>\n"
     ]
    }
   ],
   "source": [
    "import json\n",
    "\n",
    "# a Python object (dict):\n",
    "x = {\n",
    "  \"name\": \"John\",\n",
    "  \"age\" : 30,\n",
    "  \"city\": \"New York\"\n",
    "}\n",
    "\n",
    "# convert into JSON: if you have a Python object, you can convert it into a JSON string by using the json.dumps() method.\n",
    "y = json.dumps(x)\n",
    "\n",
    "print(y , \"\\n\",type(y))   # JSON : string of dictionary"
   ]
  },
  {
   "cell_type": "code",
   "execution_count": 27,
   "id": "709caf03",
   "metadata": {},
   "outputs": [
    {
     "name": "stdout",
     "output_type": "stream",
     "text": [
      "{\"name\": \"John\", \"age\": 30}\n",
      "[\"apple\", \"bananas\"]\n",
      "[\"apple\", \"bananas\"]\n",
      "\"hello\"\n",
      "42\n",
      "31.76\n",
      "true\n",
      "false\n",
      "null\n"
     ]
    }
   ],
   "source": [
    "print(json.dumps({\"name\": \"John\", \"age\": 30}))\n",
    "print(json.dumps([\"apple\", \"bananas\"]))\n",
    "print(json.dumps((\"apple\", \"bananas\")))\n",
    "print(json.dumps(\"hello\"))\n",
    "print(json.dumps(42))\n",
    "print(json.dumps(31.76))\n",
    "print(json.dumps(True))\n",
    "print(json.dumps(False))\n",
    "print(json.dumps(None))"
   ]
  },
  {
   "cell_type": "code",
   "execution_count": 28,
   "id": "9b00cacf",
   "metadata": {},
   "outputs": [
    {
     "name": "stdout",
     "output_type": "stream",
     "text": [
      "{\"name\": \"John\", \"age\": 30, \"married\": true, \"divorced\": false, \"children\": [\"Ann\", \"Billy\"], \"pets\": null, \"cars\": [{\"model\": \"BMW 230\", \"mpg\": 27.5}, {\"model\": \"Ford Edge\", \"mpg\": 24.1}]}\n"
     ]
    }
   ],
   "source": [
    "x = {\n",
    "  \"name\"    : \"John\",\n",
    "  \"age\"     : 30,\n",
    "  \"married\" : True,\n",
    "  \"divorced\": False,\n",
    "  \"children\": (\"Ann\",\"Billy\"),\n",
    "  \"pets\"    : None,\n",
    "  \"cars\"    : [\n",
    "      {\"model\": \"BMW 230\", \"mpg\": 27.5},\n",
    "      {\"model\": \"Ford Edge\", \"mpg\": 24.1}\n",
    "              ]\n",
    "}\n",
    "\n",
    "print(json.dumps(x))"
   ]
  },
  {
   "cell_type": "code",
   "execution_count": 29,
   "id": "00cb22c5",
   "metadata": {},
   "outputs": [
    {
     "name": "stdout",
     "output_type": "stream",
     "text": [
      "{\n",
      " \"name\": \"John\",\n",
      " \"age\": 30,\n",
      " \"married\": true,\n",
      " \"divorced\": false,\n",
      " \"children\": [\n",
      "  \"Ann\",\n",
      "  \"Billy\"\n",
      " ],\n",
      " \"pets\": null,\n",
      " \"cars\": [\n",
      "  {\n",
      "   \"model\": \"BMW 230\",\n",
      "   \"mpg\": 27.5\n",
      "  },\n",
      "  {\n",
      "   \"model\": \"Ford Edge\",\n",
      "   \"mpg\": 24.1\n",
      "  }\n",
      " ]\n",
      "}\n"
     ]
    }
   ],
   "source": [
    "print(json.dumps(x, indent=1))"
   ]
  },
  {
   "cell_type": "code",
   "execution_count": 30,
   "id": "2ed0dc0d",
   "metadata": {},
   "outputs": [
    {
     "name": "stdout",
     "output_type": "stream",
     "text": [
      "{\n",
      "    \"age\": 30,\n",
      "    \"cars\": [\n",
      "        {\n",
      "            \"model\": \"BMW 230\",\n",
      "            \"mpg\": 27.5\n",
      "        },\n",
      "        {\n",
      "            \"model\": \"Ford Edge\",\n",
      "            \"mpg\": 24.1\n",
      "        }\n",
      "    ],\n",
      "    \"children\": [\n",
      "        \"Ann\",\n",
      "        \"Billy\"\n",
      "    ],\n",
      "    \"divorced\": false,\n",
      "    \"married\": true,\n",
      "    \"name\": \"John\",\n",
      "    \"pets\": null\n",
      "}\n"
     ]
    }
   ],
   "source": [
    "print(json.dumps(x, indent=4, sort_keys=True, ensure_ascii=False)) # Preserves special characters like accents or emojis."
   ]
  },
  {
   "cell_type": "code",
   "execution_count": 32,
   "id": "225e5ab5",
   "metadata": {},
   "outputs": [
    {
     "name": "stdout",
     "output_type": "stream",
     "text": [
      "Prettified JSON saved to output.json\n"
     ]
    }
   ],
   "source": [
    "# Your JSON data\n",
    "data = {\n",
    "    \"name\"      : \"John\",\n",
    "    \"age\"       : 30,\n",
    "    \"married\"   : True,\n",
    "    \"divorced\"  : False,\n",
    "    \"children\"  : [\"Ann\", \"Billy\"],\n",
    "    \"pets\"      : None,\n",
    "    \"cars\"      : [\n",
    "            {\"model\": \"BMW 230\", \"mpg\": 27.5},\n",
    "            {\"model\": \"Ford Edge\", \"mpg\": 24.1}\n",
    "    ]\n",
    "}\n",
    "\n",
    "# Save as prettified JSON\n",
    "with open(\"./data/output.json\", \"w\") as f:\n",
    "    json.dump(data, f, indent=4, sort_keys=False, ensure_ascii=False)\n",
    "\n",
    "print(\"Prettified JSON saved to output.json\")"
   ]
  },
  {
   "cell_type": "code",
   "execution_count": 33,
   "id": "714934d9",
   "metadata": {},
   "outputs": [
    {
     "name": "stdout",
     "output_type": "stream",
     "text": [
      "{'name': 'John', 'age': 30, 'married': True, 'divorced': False, 'children': ['Ann', 'Billy'], 'pets': None, 'cars': [{'model': 'BMW 230', 'mpg': 27.5}, {'model': 'Ford Edge', 'mpg': 24.1}]} \n",
      " <class 'dict'>\n"
     ]
    }
   ],
   "source": [
    "# Open and read JSON file\n",
    "with open(\"./data/output.json\", \"r\") as f:\n",
    "    data = json.load(f)\n",
    "\n",
    "print(data ,\"\\n\" ,type(data))"
   ]
  },
  {
   "cell_type": "markdown",
   "id": "442bddbf",
   "metadata": {},
   "source": [
    "<h1 align=\"center\"> <strong>4️⃣ try & except and Modules</strong> </h1>\n",
    "\n",
    "> # **try & except**\n",
    "```md\n",
    "The try block lets you test a block of code for errors.\n",
    "\n",
    "The except block lets you handle the error.\n",
    "\n",
    "The else block lets you execute code when there is no error.\n",
    "\n",
    "The finally block lets you execute code, regardless of the result of the try- and except blocks.\n",
    "```"
   ]
  },
  {
   "cell_type": "code",
   "execution_count": 35,
   "id": "83a89cd1",
   "metadata": {},
   "outputs": [
    {
     "name": "stdout",
     "output_type": "stream",
     "text": [
      "> An exception occurred\n"
     ]
    }
   ],
   "source": [
    "del x\n",
    "\n",
    "try:\n",
    "  print(x)\n",
    "except:\n",
    "  print(\"> An exception occurred\")"
   ]
  },
  {
   "cell_type": "code",
   "execution_count": 36,
   "id": "f109925e",
   "metadata": {},
   "outputs": [],
   "source": [
    "try:\n",
    "  print(x)\n",
    "except:\n",
    "  pass"
   ]
  },
  {
   "cell_type": "code",
   "execution_count": 37,
   "id": "ee7aeb94",
   "metadata": {},
   "outputs": [
    {
     "name": "stdout",
     "output_type": "stream",
     "text": [
      "Variable x is not defined\n"
     ]
    }
   ],
   "source": [
    "try:\n",
    "  print(x)\n",
    "except NameError:\n",
    "  print(\"Variable x is not defined\")\n",
    "except:\n",
    "  print(\"Something else went wrong\")"
   ]
  },
  {
   "cell_type": "code",
   "execution_count": null,
   "id": "65b2907f",
   "metadata": {},
   "outputs": [
    {
     "ename": "TypeError",
     "evalue": "Only integers are allowed",
     "output_type": "error",
     "traceback": [
      "\u001b[31m---------------------------------------------------------------------------\u001b[39m",
      "\u001b[31mTypeError\u001b[39m                                 Traceback (most recent call last)",
      "\u001b[36mCell\u001b[39m\u001b[36m \u001b[39m\u001b[32mIn[38]\u001b[39m\u001b[32m, line 4\u001b[39m\n\u001b[32m      1\u001b[39m x = \u001b[33m\"\u001b[39m\u001b[33mhello\u001b[39m\u001b[33m\"\u001b[39m\n\u001b[32m      3\u001b[39m \u001b[38;5;28;01mif\u001b[39;00m \u001b[38;5;129;01mnot\u001b[39;00m \u001b[38;5;28mtype\u001b[39m(x) \u001b[38;5;129;01mis\u001b[39;00m \u001b[38;5;28mint\u001b[39m:\n\u001b[32m----> \u001b[39m\u001b[32m4\u001b[39m   \u001b[38;5;28;01mraise\u001b[39;00m \u001b[38;5;167;01mTypeError\u001b[39;00m(\u001b[33m\"\u001b[39m\u001b[33mOnly integers are allowed\u001b[39m\u001b[33m\"\u001b[39m)\n",
      "\u001b[31mTypeError\u001b[39m: Only integers are allowed"
     ]
    }
   ],
   "source": [
    "x = \"hello\"\n",
    "\n",
    "if not type(x) is int:\n",
    "  raise TypeError(\"Only integers are allowed\")"
   ]
  },
  {
   "cell_type": "code",
   "execution_count": 39,
   "id": "32841060",
   "metadata": {},
   "outputs": [
    {
     "ename": "Exception",
     "evalue": "Sorry, no numbers below zero",
     "output_type": "error",
     "traceback": [
      "\u001b[31m---------------------------------------------------------------------------\u001b[39m",
      "\u001b[31mException\u001b[39m                                 Traceback (most recent call last)",
      "\u001b[36mCell\u001b[39m\u001b[36m \u001b[39m\u001b[32mIn[39]\u001b[39m\u001b[32m, line 4\u001b[39m\n\u001b[32m      1\u001b[39m x = -\u001b[32m1\u001b[39m\n\u001b[32m      3\u001b[39m \u001b[38;5;28;01mif\u001b[39;00m x < \u001b[32m0\u001b[39m:\n\u001b[32m----> \u001b[39m\u001b[32m4\u001b[39m   \u001b[38;5;28;01mraise\u001b[39;00m \u001b[38;5;167;01mException\u001b[39;00m(\u001b[33m\"\u001b[39m\u001b[33mSorry, no numbers below zero\u001b[39m\u001b[33m\"\u001b[39m)\n",
      "\u001b[31mException\u001b[39m: Sorry, no numbers below zero"
     ]
    }
   ],
   "source": [
    "x = -1\n",
    "\n",
    "if x < 0:\n",
    "  raise Exception(\"Sorry, no numbers below zero\")"
   ]
  },
  {
   "cell_type": "markdown",
   "id": "6ca23b7c",
   "metadata": {},
   "source": [
    "> # **What is a Module?**\n",
    "\n",
    "```md\n",
    "Consider a module to be the same as a code library.\n",
    "\n",
    "A file containing a set of functions you want to include in your application.\n",
    "```"
   ]
  },
  {
   "cell_type": "code",
   "execution_count": 40,
   "id": "68b0fc1d",
   "metadata": {},
   "outputs": [
    {
     "name": "stdout",
     "output_type": "stream",
     "text": [
      "Hello, omar\n"
     ]
    }
   ],
   "source": [
    "import utils\n",
    "\n",
    "utils.greeting(\"omar\")"
   ]
  },
  {
   "cell_type": "code",
   "execution_count": null,
   "id": "81e4aaf3",
   "metadata": {},
   "outputs": [
    {
     "name": "stdout",
     "output_type": "stream",
     "text": [
      "Hello, radwan\n"
     ]
    }
   ],
   "source": [
    "from utils import greeting\n",
    "\n",
    "greeting(\"omar\")"
   ]
  },
  {
   "cell_type": "code",
   "execution_count": 48,
   "id": "80c8790a",
   "metadata": {},
   "outputs": [
    {
     "name": "stdout",
     "output_type": "stream",
     "text": [
      "Hello, omar\n"
     ]
    }
   ],
   "source": [
    "import utils as ui # use alias as\n",
    "\n",
    "a = ui.greeting(\"omar\")\n",
    "a"
   ]
  },
  {
   "cell_type": "markdown",
   "id": "b19df1e5",
   "metadata": {},
   "source": [
    "<div style=\"background: linear-gradient(135deg, #c90016, #8b000e); \n",
    "            color: #ffffff; \n",
    "            width: 100%; \n",
    "            height: 30px; \n",
    "            text-align: center; \n",
    "            font-weight: bold; \n",
    "            line-height: 30px; \n",
    "            margin: 15px 0; \n",
    "            font-size: 24px; \n",
    "            border-radius: 10px; \n",
    "            box-shadow: 0 4px 8px rgba(0, 0, 0, 0.3);\">\n",
    "    VIP info\n",
    "</div>\n",
    "\n",
    "```python \n",
    "# Run this cell once at the top of your notebook to enable automatic reloading of modules.\n",
    "# This will ensure that any changes made to the module are reflected without needing to restart the kernel\n",
    "\n",
    "%load_ext autoreload\n",
    "%autoreload 2\n",
    "```"
   ]
  }
 ],
 "metadata": {
  "kernelspec": {
   "display_name": "anaconda-ml-ai",
   "language": "python",
   "name": "python3"
  },
  "language_info": {
   "codemirror_mode": {
    "name": "ipython",
    "version": 3
   },
   "file_extension": ".py",
   "mimetype": "text/x-python",
   "name": "python",
   "nbconvert_exporter": "python",
   "pygments_lexer": "ipython3",
   "version": "3.11.13"
  }
 },
 "nbformat": 4,
 "nbformat_minor": 5
}
